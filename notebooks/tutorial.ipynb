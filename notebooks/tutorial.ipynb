{
 "cells": [
  {
   "cell_type": "code",
   "execution_count": 1,
   "id": "8150eb8a-03d8-4e2e-880e-420b01a1a191",
   "metadata": {},
   "outputs": [
    {
     "ename": "SyntaxError",
     "evalue": "invalid syntax (span.py, line 17)",
     "output_type": "error",
     "traceback": [
      "Traceback \u001b[0;36m(most recent call last)\u001b[0m:\n",
      "  File \u001b[1;32m\"/home/cdien/.conda/envs/getspan/lib/python3.8/site-packages/IPython/core/interactiveshell.py\"\u001b[0m, line \u001b[1;32m3444\u001b[0m, in \u001b[1;35mrun_code\u001b[0m\n    exec(code_obj, self.user_global_ns, self.user_ns)\n",
      "  File \u001b[1;32m\"/loc/scratch/40792447/ipykernel_27079/3764493640.py\"\u001b[0m, line \u001b[1;32m1\u001b[0m, in \u001b[1;35m<module>\u001b[0m\n    import getspan\n",
      "\u001b[0;36m  File \u001b[0;32m\"/home/cdien/.conda/envs/getspan/lib/python3.8/site-packages/getspan/__init__.py\"\u001b[0;36m, line \u001b[0;32m1\u001b[0;36m, in \u001b[0;35m<module>\u001b[0;36m\u001b[0m\n\u001b[0;31m    from . import span\u001b[0m\n",
      "\u001b[0;36m  File \u001b[0;32m\"/home/cdien/.conda/envs/getspan/lib/python3.8/site-packages/getspan/span.py\"\u001b[0;36m, line \u001b[0;32m17\u001b[0m\n\u001b[0;31m    smooth=False, length_scale=0.2,\u001b[0m\n\u001b[0m    ^\u001b[0m\n\u001b[0;31mSyntaxError\u001b[0m\u001b[0;31m:\u001b[0m invalid syntax\n"
     ]
    }
   ],
   "source": [
    "import getspan"
   ]
  },
  {
   "cell_type": "code",
   "execution_count": null,
   "id": "abf7c084-1966-4021-b76d-1f70ffde874b",
   "metadata": {},
   "outputs": [],
   "source": []
  }
 ],
 "metadata": {
  "kernelspec": {
   "display_name": "getspan",
   "language": "python",
   "name": "getspan"
  },
  "language_info": {
   "codemirror_mode": {
    "name": "ipython",
    "version": 3
   },
   "file_extension": ".py",
   "mimetype": "text/x-python",
   "name": "python",
   "nbconvert_exporter": "python",
   "pygments_lexer": "ipython3",
   "version": "3.8.12"
  }
 },
 "nbformat": 4,
 "nbformat_minor": 5
}
